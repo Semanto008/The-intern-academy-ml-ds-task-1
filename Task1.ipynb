{
  "nbformat": 4,
  "nbformat_minor": 0,
  "metadata": {
    "colab": {
      "name": "Untitled0.ipynb",
      "provenance": [],
      "collapsed_sections": []
    },
    "kernelspec": {
      "name": "python3",
      "display_name": "Python 3"
    },
    "language_info": {
      "name": "python"
    }
  },
  "cells": [
    {
      "cell_type": "code",
      "metadata": {
        "id": "HZBBtWOh6nEf"
      },
      "source": [
        "import numpy as np #importing all libraries\n",
        "import pandas as pd\n",
        "import matplotlib.pyplot as plt\n",
        "%matplotlib inline\n",
        "import seaborn as sns"
      ],
      "execution_count": 1,
      "outputs": []
    },
    {
      "cell_type": "code",
      "metadata": {
        "colab": {
          "base_uri": "https://localhost:8080/",
          "height": 354
        },
        "id": "1WfeYQJ-7nw6",
        "outputId": "509e58a7-0625-4479-95cb-b81f84eb8491"
      },
      "source": [
        "df=pd.read_csv(\"/Sem_Data.csv\") #uploading dataset\n",
        "df.head() #by default it shows first five values"
      ],
      "execution_count": 3,
      "outputs": [
        {
          "output_type": "execute_result",
          "data": {
            "text/html": [
              "<div>\n",
              "<style scoped>\n",
              "    .dataframe tbody tr th:only-of-type {\n",
              "        vertical-align: middle;\n",
              "    }\n",
              "\n",
              "    .dataframe tbody tr th {\n",
              "        vertical-align: top;\n",
              "    }\n",
              "\n",
              "    .dataframe thead th {\n",
              "        text-align: right;\n",
              "    }\n",
              "</style>\n",
              "<table border=\"1\" class=\"dataframe\">\n",
              "  <thead>\n",
              "    <tr style=\"text-align: right;\">\n",
              "      <th></th>\n",
              "      <th>Region</th>\n",
              "      <th>Country</th>\n",
              "      <th>Item Type</th>\n",
              "      <th>Sales Channel</th>\n",
              "      <th>Order Priority</th>\n",
              "      <th>Order Date</th>\n",
              "      <th>Order ID</th>\n",
              "      <th>Ship Date</th>\n",
              "      <th>Units Sold</th>\n",
              "      <th>Unit Price</th>\n",
              "      <th>Unit Cost</th>\n",
              "      <th>Total Revenue</th>\n",
              "      <th>Total Cost</th>\n",
              "      <th>Total Profit</th>\n",
              "    </tr>\n",
              "  </thead>\n",
              "  <tbody>\n",
              "    <tr>\n",
              "      <th>0</th>\n",
              "      <td>Australia and Oceania</td>\n",
              "      <td>Tuvalu</td>\n",
              "      <td>Baby Food</td>\n",
              "      <td>Offline</td>\n",
              "      <td>H</td>\n",
              "      <td>5/28/2010</td>\n",
              "      <td>669165933</td>\n",
              "      <td>6/27/2010</td>\n",
              "      <td>9925</td>\n",
              "      <td>255.28</td>\n",
              "      <td>159.42</td>\n",
              "      <td>2533654.00</td>\n",
              "      <td>1582243.50</td>\n",
              "      <td>951410.50</td>\n",
              "    </tr>\n",
              "    <tr>\n",
              "      <th>1</th>\n",
              "      <td>Central America and the Caribbean</td>\n",
              "      <td>Grenada</td>\n",
              "      <td>Cereal</td>\n",
              "      <td>Online</td>\n",
              "      <td>C</td>\n",
              "      <td>8/22/2012</td>\n",
              "      <td>963881480</td>\n",
              "      <td>9/15/2012</td>\n",
              "      <td>2804</td>\n",
              "      <td>205.70</td>\n",
              "      <td>117.11</td>\n",
              "      <td>576782.80</td>\n",
              "      <td>328376.44</td>\n",
              "      <td>248406.36</td>\n",
              "    </tr>\n",
              "    <tr>\n",
              "      <th>2</th>\n",
              "      <td>Europe</td>\n",
              "      <td>Russia</td>\n",
              "      <td>Office Supplies</td>\n",
              "      <td>Offline</td>\n",
              "      <td>L</td>\n",
              "      <td>05-02-2014</td>\n",
              "      <td>341417157</td>\n",
              "      <td>05-08-2014</td>\n",
              "      <td>1779</td>\n",
              "      <td>651.21</td>\n",
              "      <td>524.96</td>\n",
              "      <td>1158502.59</td>\n",
              "      <td>933903.84</td>\n",
              "      <td>224598.75</td>\n",
              "    </tr>\n",
              "    <tr>\n",
              "      <th>3</th>\n",
              "      <td>Sub-Saharan Africa</td>\n",
              "      <td>Sao Tome and Principe</td>\n",
              "      <td>Fruits</td>\n",
              "      <td>Online</td>\n",
              "      <td>C</td>\n",
              "      <td>6/20/2014</td>\n",
              "      <td>514321792</td>\n",
              "      <td>07-05-2014</td>\n",
              "      <td>8102</td>\n",
              "      <td>9.33</td>\n",
              "      <td>6.92</td>\n",
              "      <td>75591.66</td>\n",
              "      <td>56065.84</td>\n",
              "      <td>19525.82</td>\n",
              "    </tr>\n",
              "    <tr>\n",
              "      <th>4</th>\n",
              "      <td>Sub-Saharan Africa</td>\n",
              "      <td>Rwanda</td>\n",
              "      <td>Office Supplies</td>\n",
              "      <td>Offline</td>\n",
              "      <td>L</td>\n",
              "      <td>02-01-2013</td>\n",
              "      <td>115456712</td>\n",
              "      <td>02-06-2013</td>\n",
              "      <td>5062</td>\n",
              "      <td>651.21</td>\n",
              "      <td>524.96</td>\n",
              "      <td>3296425.02</td>\n",
              "      <td>2657347.52</td>\n",
              "      <td>639077.50</td>\n",
              "    </tr>\n",
              "  </tbody>\n",
              "</table>\n",
              "</div>"
            ],
            "text/plain": [
              "                              Region  ... Total Profit\n",
              "0              Australia and Oceania  ...    951410.50\n",
              "1  Central America and the Caribbean  ...    248406.36\n",
              "2                             Europe  ...    224598.75\n",
              "3                 Sub-Saharan Africa  ...     19525.82\n",
              "4                 Sub-Saharan Africa  ...    639077.50\n",
              "\n",
              "[5 rows x 14 columns]"
            ]
          },
          "metadata": {},
          "execution_count": 3
        }
      ]
    },
    {
      "cell_type": "code",
      "metadata": {
        "colab": {
          "base_uri": "https://localhost:8080/"
        },
        "id": "B5XsBCdT8dGq",
        "outputId": "189bbecb-0051-405e-9985-c9f8e7d9c601"
      },
      "source": [
        "df.info() #we can find datatype null value or not using info"
      ],
      "execution_count": 4,
      "outputs": [
        {
          "output_type": "stream",
          "name": "stdout",
          "text": [
            "<class 'pandas.core.frame.DataFrame'>\n",
            "RangeIndex: 100 entries, 0 to 99\n",
            "Data columns (total 14 columns):\n",
            " #   Column          Non-Null Count  Dtype  \n",
            "---  ------          --------------  -----  \n",
            " 0   Region          100 non-null    object \n",
            " 1   Country         100 non-null    object \n",
            " 2   Item Type       100 non-null    object \n",
            " 3   Sales Channel   100 non-null    object \n",
            " 4   Order Priority  100 non-null    object \n",
            " 5   Order Date      100 non-null    object \n",
            " 6   Order ID        100 non-null    int64  \n",
            " 7   Ship Date       100 non-null    object \n",
            " 8   Units Sold      100 non-null    int64  \n",
            " 9   Unit Price      100 non-null    float64\n",
            " 10  Unit Cost       100 non-null    float64\n",
            " 11  Total Revenue   100 non-null    float64\n",
            " 12  Total Cost      100 non-null    float64\n",
            " 13  Total Profit    100 non-null    float64\n",
            "dtypes: float64(5), int64(2), object(7)\n",
            "memory usage: 11.1+ KB\n"
          ]
        }
      ]
    },
    {
      "cell_type": "code",
      "metadata": {
        "colab": {
          "base_uri": "https://localhost:8080/"
        },
        "id": "sRyj7tDC8in5",
        "outputId": "395883e8-7803-41f4-a774-4e10d04be9c1"
      },
      "source": [
        "df.shape #cheacking shape"
      ],
      "execution_count": 5,
      "outputs": [
        {
          "output_type": "execute_result",
          "data": {
            "text/plain": [
              "(100, 14)"
            ]
          },
          "metadata": {},
          "execution_count": 5
        }
      ]
    },
    {
      "cell_type": "code",
      "metadata": {
        "colab": {
          "base_uri": "https://localhost:8080/"
        },
        "id": "kmVCE81n8oJZ",
        "outputId": "2e31ee3c-8299-4a87-d9fa-7592b539cb6a"
      },
      "source": [
        "df.dtypes #we can find datatype using dtypes command"
      ],
      "execution_count": 6,
      "outputs": [
        {
          "output_type": "execute_result",
          "data": {
            "text/plain": [
              "Region             object\n",
              "Country            object\n",
              "Item Type          object\n",
              "Sales Channel      object\n",
              "Order Priority     object\n",
              "Order Date         object\n",
              "Order ID            int64\n",
              "Ship Date          object\n",
              "Units Sold          int64\n",
              "Unit Price        float64\n",
              "Unit Cost         float64\n",
              "Total Revenue     float64\n",
              "Total Cost        float64\n",
              "Total Profit      float64\n",
              "dtype: object"
            ]
          },
          "metadata": {},
          "execution_count": 6
        }
      ]
    },
    {
      "cell_type": "code",
      "metadata": {
        "colab": {
          "base_uri": "https://localhost:8080/",
          "height": 295
        },
        "id": "4IUsYCnu8vZA",
        "outputId": "65e5915f-841a-4ee3-ed6f-d3d8cddd395e"
      },
      "source": [
        "df.describe() #we can find count ,mean ,std and some other statistical function using describe command"
      ],
      "execution_count": 7,
      "outputs": [
        {
          "output_type": "execute_result",
          "data": {
            "text/html": [
              "<div>\n",
              "<style scoped>\n",
              "    .dataframe tbody tr th:only-of-type {\n",
              "        vertical-align: middle;\n",
              "    }\n",
              "\n",
              "    .dataframe tbody tr th {\n",
              "        vertical-align: top;\n",
              "    }\n",
              "\n",
              "    .dataframe thead th {\n",
              "        text-align: right;\n",
              "    }\n",
              "</style>\n",
              "<table border=\"1\" class=\"dataframe\">\n",
              "  <thead>\n",
              "    <tr style=\"text-align: right;\">\n",
              "      <th></th>\n",
              "      <th>Order ID</th>\n",
              "      <th>Units Sold</th>\n",
              "      <th>Unit Price</th>\n",
              "      <th>Unit Cost</th>\n",
              "      <th>Total Revenue</th>\n",
              "      <th>Total Cost</th>\n",
              "      <th>Total Profit</th>\n",
              "    </tr>\n",
              "  </thead>\n",
              "  <tbody>\n",
              "    <tr>\n",
              "      <th>count</th>\n",
              "      <td>1.000000e+02</td>\n",
              "      <td>100.000000</td>\n",
              "      <td>100.000000</td>\n",
              "      <td>100.000000</td>\n",
              "      <td>1.000000e+02</td>\n",
              "      <td>1.000000e+02</td>\n",
              "      <td>1.000000e+02</td>\n",
              "    </tr>\n",
              "    <tr>\n",
              "      <th>mean</th>\n",
              "      <td>5.550204e+08</td>\n",
              "      <td>5128.710000</td>\n",
              "      <td>276.761300</td>\n",
              "      <td>191.048000</td>\n",
              "      <td>1.373488e+06</td>\n",
              "      <td>9.318057e+05</td>\n",
              "      <td>4.416820e+05</td>\n",
              "    </tr>\n",
              "    <tr>\n",
              "      <th>std</th>\n",
              "      <td>2.606153e+08</td>\n",
              "      <td>2794.484562</td>\n",
              "      <td>235.592241</td>\n",
              "      <td>188.208181</td>\n",
              "      <td>1.460029e+06</td>\n",
              "      <td>1.083938e+06</td>\n",
              "      <td>4.385379e+05</td>\n",
              "    </tr>\n",
              "    <tr>\n",
              "      <th>min</th>\n",
              "      <td>1.146066e+08</td>\n",
              "      <td>124.000000</td>\n",
              "      <td>9.330000</td>\n",
              "      <td>6.920000</td>\n",
              "      <td>4.870260e+03</td>\n",
              "      <td>3.612240e+03</td>\n",
              "      <td>1.258020e+03</td>\n",
              "    </tr>\n",
              "    <tr>\n",
              "      <th>25%</th>\n",
              "      <td>3.389225e+08</td>\n",
              "      <td>2836.250000</td>\n",
              "      <td>81.730000</td>\n",
              "      <td>35.840000</td>\n",
              "      <td>2.687212e+05</td>\n",
              "      <td>1.688680e+05</td>\n",
              "      <td>1.214436e+05</td>\n",
              "    </tr>\n",
              "    <tr>\n",
              "      <th>50%</th>\n",
              "      <td>5.577086e+08</td>\n",
              "      <td>5382.500000</td>\n",
              "      <td>179.880000</td>\n",
              "      <td>107.275000</td>\n",
              "      <td>7.523144e+05</td>\n",
              "      <td>3.635664e+05</td>\n",
              "      <td>2.907680e+05</td>\n",
              "    </tr>\n",
              "    <tr>\n",
              "      <th>75%</th>\n",
              "      <td>7.907551e+08</td>\n",
              "      <td>7369.000000</td>\n",
              "      <td>437.200000</td>\n",
              "      <td>263.330000</td>\n",
              "      <td>2.212045e+06</td>\n",
              "      <td>1.613870e+06</td>\n",
              "      <td>6.358288e+05</td>\n",
              "    </tr>\n",
              "    <tr>\n",
              "      <th>max</th>\n",
              "      <td>9.940222e+08</td>\n",
              "      <td>9925.000000</td>\n",
              "      <td>668.270000</td>\n",
              "      <td>524.960000</td>\n",
              "      <td>5.997055e+06</td>\n",
              "      <td>4.509794e+06</td>\n",
              "      <td>1.719922e+06</td>\n",
              "    </tr>\n",
              "  </tbody>\n",
              "</table>\n",
              "</div>"
            ],
            "text/plain": [
              "           Order ID   Units Sold  ...    Total Cost  Total Profit\n",
              "count  1.000000e+02   100.000000  ...  1.000000e+02  1.000000e+02\n",
              "mean   5.550204e+08  5128.710000  ...  9.318057e+05  4.416820e+05\n",
              "std    2.606153e+08  2794.484562  ...  1.083938e+06  4.385379e+05\n",
              "min    1.146066e+08   124.000000  ...  3.612240e+03  1.258020e+03\n",
              "25%    3.389225e+08  2836.250000  ...  1.688680e+05  1.214436e+05\n",
              "50%    5.577086e+08  5382.500000  ...  3.635664e+05  2.907680e+05\n",
              "75%    7.907551e+08  7369.000000  ...  1.613870e+06  6.358288e+05\n",
              "max    9.940222e+08  9925.000000  ...  4.509794e+06  1.719922e+06\n",
              "\n",
              "[8 rows x 7 columns]"
            ]
          },
          "metadata": {},
          "execution_count": 7
        }
      ]
    },
    {
      "cell_type": "code",
      "metadata": {
        "colab": {
          "base_uri": "https://localhost:8080/"
        },
        "id": "PYxrhq4J82MJ",
        "outputId": "358c31df-f316-48b5-bbba-685571a9f284"
      },
      "source": [
        "df.columns #we can find columns using columns command"
      ],
      "execution_count": 8,
      "outputs": [
        {
          "output_type": "execute_result",
          "data": {
            "text/plain": [
              "Index(['Region', 'Country', 'Item Type', 'Sales Channel', 'Order Priority',\n",
              "       'Order Date', 'Order ID', 'Ship Date', 'Units Sold', 'Unit Price',\n",
              "       'Unit Cost', 'Total Revenue', 'Total Cost', 'Total Profit'],\n",
              "      dtype='object')"
            ]
          },
          "metadata": {},
          "execution_count": 8
        }
      ]
    },
    {
      "cell_type": "code",
      "metadata": {
        "colab": {
          "base_uri": "https://localhost:8080/"
        },
        "id": "F5AaA_Lf87mJ",
        "outputId": "6ac79f9f-00e8-477e-9d4f-1bc4ef3d6fde"
      },
      "source": [
        "df.isnull().sum() #checking null value or not"
      ],
      "execution_count": 9,
      "outputs": [
        {
          "output_type": "execute_result",
          "data": {
            "text/plain": [
              "Region            0\n",
              "Country           0\n",
              "Item Type         0\n",
              "Sales Channel     0\n",
              "Order Priority    0\n",
              "Order Date        0\n",
              "Order ID          0\n",
              "Ship Date         0\n",
              "Units Sold        0\n",
              "Unit Price        0\n",
              "Unit Cost         0\n",
              "Total Revenue     0\n",
              "Total Cost        0\n",
              "Total Profit      0\n",
              "dtype: int64"
            ]
          },
          "metadata": {},
          "execution_count": 9
        }
      ]
    },
    {
      "cell_type": "code",
      "metadata": {
        "id": "dxZwsxu48_4Y"
      },
      "source": [
        "#there is no null value"
      ],
      "execution_count": 10,
      "outputs": []
    },
    {
      "cell_type": "code",
      "metadata": {
        "colab": {
          "base_uri": "https://localhost:8080/"
        },
        "id": "TYbtosR79BpQ",
        "outputId": "d363a64b-47ae-41d9-a693-49b2f3d6fbd1"
      },
      "source": [
        "df.duplicated().sum() #checking duplicated value"
      ],
      "execution_count": 12,
      "outputs": [
        {
          "output_type": "execute_result",
          "data": {
            "text/plain": [
              "0"
            ]
          },
          "metadata": {},
          "execution_count": 12
        }
      ]
    },
    {
      "cell_type": "code",
      "metadata": {
        "id": "Ti8EM5CF9Ipq"
      },
      "source": [
        "df['Ship Date']=pd.to_datetime(df['Ship Date']) #converting  Ship Date to yy-mm-dd format"
      ],
      "execution_count": 13,
      "outputs": []
    },
    {
      "cell_type": "code",
      "metadata": {
        "colab": {
          "base_uri": "https://localhost:8080/"
        },
        "id": "sosg8JYO9PrZ",
        "outputId": "70fc4d83-8f6d-492d-98e8-5e22f2c01cd1"
      },
      "source": [
        "df['Ship Date']"
      ],
      "execution_count": 14,
      "outputs": [
        {
          "output_type": "execute_result",
          "data": {
            "text/plain": [
              "0    2010-06-27\n",
              "1    2012-09-15\n",
              "2    2014-05-08\n",
              "3    2014-07-05\n",
              "4    2013-02-06\n",
              "        ...    \n",
              "95   2011-09-03\n",
              "96   2011-12-28\n",
              "97   2016-06-29\n",
              "98   2015-08-08\n",
              "99   2012-02-15\n",
              "Name: Ship Date, Length: 100, dtype: datetime64[ns]"
            ]
          },
          "metadata": {},
          "execution_count": 14
        }
      ]
    },
    {
      "cell_type": "code",
      "metadata": {
        "colab": {
          "base_uri": "https://localhost:8080/"
        },
        "id": "QwIrmLZE9UXx",
        "outputId": "62bd91cb-09f7-4240-81a5-c0bcac3a74a7"
      },
      "source": [
        "df['Ship Date'].min() #finding first ship date"
      ],
      "execution_count": 15,
      "outputs": [
        {
          "output_type": "execute_result",
          "data": {
            "text/plain": [
              "Timestamp('2010-02-25 00:00:00')"
            ]
          },
          "metadata": {},
          "execution_count": 15
        }
      ]
    },
    {
      "cell_type": "code",
      "metadata": {
        "colab": {
          "base_uri": "https://localhost:8080/"
        },
        "id": "If7YOfTX9bLJ",
        "outputId": "13f45146-6af2-4ad5-e7bf-3cc6b35e478a"
      },
      "source": [
        "df['Ship Date'].max() #finding last ship date"
      ],
      "execution_count": 16,
      "outputs": [
        {
          "output_type": "execute_result",
          "data": {
            "text/plain": [
              "Timestamp('2017-06-17 00:00:00')"
            ]
          },
          "metadata": {},
          "execution_count": 16
        }
      ]
    },
    {
      "cell_type": "code",
      "metadata": {
        "colab": {
          "base_uri": "https://localhost:8080/"
        },
        "id": "G8qH0IVb9h3w",
        "outputId": "619f63ef-f184-43be-ab15-b7681ecc4681"
      },
      "source": [
        "df['Month']=df['Ship Date'].apply(lambda x: x.strftime('%m')) #month wise value\n",
        "df['Month']"
      ],
      "execution_count": 17,
      "outputs": [
        {
          "output_type": "execute_result",
          "data": {
            "text/plain": [
              "0     06\n",
              "1     09\n",
              "2     05\n",
              "3     07\n",
              "4     02\n",
              "      ..\n",
              "95    09\n",
              "96    12\n",
              "97    06\n",
              "98    08\n",
              "99    02\n",
              "Name: Month, Length: 100, dtype: object"
            ]
          },
          "metadata": {},
          "execution_count": 17
        }
      ]
    },
    {
      "cell_type": "code",
      "metadata": {
        "colab": {
          "base_uri": "https://localhost:8080/"
        },
        "id": "jmwtg6ZA9m7K",
        "outputId": "f4cc972e-91a8-4add-e34c-03aeb339bfb5"
      },
      "source": [
        "df['Year'] = df['Ship Date'].apply(lambda x: x.strftime('%Y'))\n",
        "df['Year'] #year wise value"
      ],
      "execution_count": 18,
      "outputs": [
        {
          "output_type": "execute_result",
          "data": {
            "text/plain": [
              "0     2010\n",
              "1     2012\n",
              "2     2014\n",
              "3     2014\n",
              "4     2013\n",
              "      ... \n",
              "95    2011\n",
              "96    2011\n",
              "97    2016\n",
              "98    2015\n",
              "99    2012\n",
              "Name: Year, Length: 100, dtype: object"
            ]
          },
          "metadata": {},
          "execution_count": 18
        }
      ]
    },
    {
      "cell_type": "code",
      "metadata": {
        "id": "oZgrk8CH9rlx"
      },
      "source": [
        "df_trendM = df.groupby('Month').sum()['Total Revenue'].reset_index()"
      ],
      "execution_count": 19,
      "outputs": []
    },
    {
      "cell_type": "code",
      "metadata": {
        "colab": {
          "base_uri": "https://localhost:8080/",
          "height": 418
        },
        "id": "DHarujBK9vn5",
        "outputId": "493b73fb-ab70-49c5-c26e-33643dbf0b37"
      },
      "source": [
        "plt.figure(figsize=(15,6))\n",
        "plt.plot(df_trendM['Month'],df_trendM['Total Revenue'],color = 'r')\n",
        "plt.xticks(rotation='vertical',size=9) #plot month vs total revenue for finding sales trend\n",
        "plt.ylabel('Total Revenue')\n",
        "plt.xlabel('Month')"
      ],
      "execution_count": 22,
      "outputs": [
        {
          "output_type": "execute_result",
          "data": {
            "text/plain": [
              "Text(0.5, 0, 'Month')"
            ]
          },
          "metadata": {},
          "execution_count": 22
        },
        {
          "output_type": "display_data",
          "data": {
            "image/png": "[encoded data removed]",
            "text/plain": [
              "<Figure size 1080x432 with 1 Axes>"
            ]
          },
          "metadata": {
            "needs_background": "light"
          }
        }
      ]
    },
    {
      "cell_type": "code",
      "metadata": {
        "id": "myPuYEgg99sY"
      },
      "source": [
        "#we can say that from this plot The Total Revenue collection are highest at 2nd month i.e feb and\n",
        "#Second heighest at 11th month i.e. November."
      ],
      "execution_count": 23,
      "outputs": []
    },
    {
      "cell_type": "code",
      "metadata": {
        "colab": {
          "base_uri": "https://localhost:8080/"
        },
        "id": "aaVp3sl8-CIY",
        "outputId": "9c7ccce2-163a-40f3-bb9f-6ca4fd585673"
      },
      "source": [
        "df['Year'] = df['Ship Date'].apply(lambda x: x.strftime('%Y'))\n",
        "df['Year'] #year wise value"
      ],
      "execution_count": 24,
      "outputs": [
        {
          "output_type": "execute_result",
          "data": {
            "text/plain": [
              "0     2010\n",
              "1     2012\n",
              "2     2014\n",
              "3     2014\n",
              "4     2013\n",
              "      ... \n",
              "95    2011\n",
              "96    2011\n",
              "97    2016\n",
              "98    2015\n",
              "99    2012\n",
              "Name: Year, Length: 100, dtype: object"
            ]
          },
          "metadata": {},
          "execution_count": 24
        }
      ]
    },
    {
      "cell_type": "code",
      "metadata": {
        "id": "ytWP-Sk1-EAg"
      },
      "source": [
        "df_trendY = df.groupby('Year').sum()['Total Revenue'].reset_index()"
      ],
      "execution_count": 25,
      "outputs": []
    },
    {
      "cell_type": "code",
      "metadata": {
        "colab": {
          "base_uri": "https://localhost:8080/",
          "height": 431
        },
        "id": "3xCGslrU-LwJ",
        "outputId": "b43905b2-64eb-4396-fdc7-c4b44c3e77bf"
      },
      "source": [
        "plt.figure(figsize=(15,6))\n",
        "plt.plot(df_trendY['Year'],df_trendY['Total Revenue'],color = 'c')\n",
        "plt.xticks(rotation='vertical',size=10)\n",
        "plt.ylabel('Total Revenue')\n",
        "plt.xlabel('Year') #plot total revenue vs year finding sales trend"
      ],
      "execution_count": 26,
      "outputs": [
        {
          "output_type": "execute_result",
          "data": {
            "text/plain": [
              "Text(0.5, 0, 'Year')"
            ]
          },
          "metadata": {},
          "execution_count": 26
        },
        {
          "output_type": "display_data",
          "data": {
            "image/png": "[encoded data removed]",
            "text/plain": [
              "<Figure size 1080x432 with 1 Axes>"
            ]
          },
          "metadata": {
            "needs_background": "light"
          }
        }
      ]
    },
    {
      "cell_type": "code",
      "metadata": {
        "id": "knnLcbpf-TcP"
      },
      "source": [
        "#we can say that the Total Revenue collection was highest in 2012."
      ],
      "execution_count": 27,
      "outputs": []
    },
    {
      "cell_type": "code",
      "metadata": {
        "colab": {
          "base_uri": "https://localhost:8080/"
        },
        "id": "Ij-PEMWo-YE5",
        "outputId": "f4320983-bd30-492b-a223-cf7335946d95"
      },
      "source": [
        "df['month_year'] = df['Ship Date'].apply(lambda x: x.strftime('%Y,%m'))\n",
        "df['month_year']"
      ],
      "execution_count": 28,
      "outputs": [
        {
          "output_type": "execute_result",
          "data": {
            "text/plain": [
              "0     2010,06\n",
              "1     2012,09\n",
              "2     2014,05\n",
              "3     2014,07\n",
              "4     2013,02\n",
              "       ...   \n",
              "95    2011,09\n",
              "96    2011,12\n",
              "97    2016,06\n",
              "98    2015,08\n",
              "99    2012,02\n",
              "Name: month_year, Length: 100, dtype: object"
            ]
          },
          "metadata": {},
          "execution_count": 28
        }
      ]
    },
    {
      "cell_type": "code",
      "metadata": {
        "id": "uBSVMhLy-cqY"
      },
      "source": [
        "df_trendMY = df.groupby('month_year').sum()['Total Revenue'].reset_index()"
      ],
      "execution_count": 29,
      "outputs": []
    },
    {
      "cell_type": "code",
      "metadata": {
        "colab": {
          "base_uri": "https://localhost:8080/",
          "height": 422
        },
        "id": "NkJTPMMv-hTB",
        "outputId": "1587b1c9-0ac6-4180-8588-02aa10123d75"
      },
      "source": [
        "plt.figure(figsize=(15,6))\n",
        "plt.plot(df_trendMY['month_year'],df_trendMY['Total Revenue'],color = 'b')\n",
        "plt.xticks(rotation='vertical',size=8)\n",
        "plt.ylabel('Total Revenue')\n",
        "plt.xlabel('Month-Year')\n",
        "plt.xticks(rotation=60) #plot total revenue vs month-year\n",
        "\n",
        "plt.show()"
      ],
      "execution_count": 30,
      "outputs": [
        {
          "output_type": "display_data",
          "data": {
            "image/png": "[encoded data removed]",
            "text/plain": [
              "<Figure size 1080x432 with 1 Axes>"
            ]
          },
          "metadata": {
            "needs_background": "light"
          }
        }
      ]
    },
    {
      "cell_type": "code",
      "metadata": {
        "id": "Z4bY1PJG-nSB"
      },
      "source": [
        "#we can say that highest on December, 2016 while\n",
        "#on August, 2013 it was second highest."
      ],
      "execution_count": 31,
      "outputs": []
    },
    {
      "cell_type": "code",
      "metadata": {
        "id": "XWNOerWz-rOh"
      },
      "source": [
        "product_sales = pd.DataFrame(df.groupby('Item Type').sum()['Total Revenue']) #using this command we can find\n",
        "#item type vs total revenue"
      ],
      "execution_count": 32,
      "outputs": []
    },
    {
      "cell_type": "code",
      "metadata": {
        "colab": {
          "base_uri": "https://localhost:8080/",
          "height": 450
        },
        "id": "PrFY50iK-xep",
        "outputId": "0349e5ac-285a-47e7-c345-1cf7c058cbc0"
      },
      "source": [
        "product_sales.sort_values('Total Revenue',ascending=False)"
      ],
      "execution_count": 33,
      "outputs": [
        {
          "output_type": "execute_result",
          "data": {
            "text/html": [
              "<div>\n",
              "<style scoped>\n",
              "    .dataframe tbody tr th:only-of-type {\n",
              "        vertical-align: middle;\n",
              "    }\n",
              "\n",
              "    .dataframe tbody tr th {\n",
              "        vertical-align: top;\n",
              "    }\n",
              "\n",
              "    .dataframe thead th {\n",
              "        text-align: right;\n",
              "    }\n",
              "</style>\n",
              "<table border=\"1\" class=\"dataframe\">\n",
              "  <thead>\n",
              "    <tr style=\"text-align: right;\">\n",
              "      <th></th>\n",
              "      <th>Total Revenue</th>\n",
              "    </tr>\n",
              "    <tr>\n",
              "      <th>Item Type</th>\n",
              "      <th></th>\n",
              "    </tr>\n",
              "  </thead>\n",
              "  <tbody>\n",
              "    <tr>\n",
              "      <th>Cosmetics</th>\n",
              "      <td>36601509.60</td>\n",
              "    </tr>\n",
              "    <tr>\n",
              "      <th>Office Supplies</th>\n",
              "      <td>30585380.07</td>\n",
              "    </tr>\n",
              "    <tr>\n",
              "      <th>Household</th>\n",
              "      <td>29889712.29</td>\n",
              "    </tr>\n",
              "    <tr>\n",
              "      <th>Baby Food</th>\n",
              "      <td>10350327.60</td>\n",
              "    </tr>\n",
              "    <tr>\n",
              "      <th>Clothes</th>\n",
              "      <td>7787292.80</td>\n",
              "    </tr>\n",
              "    <tr>\n",
              "      <th>Cereal</th>\n",
              "      <td>5322898.90</td>\n",
              "    </tr>\n",
              "    <tr>\n",
              "      <th>Meat</th>\n",
              "      <td>4503675.75</td>\n",
              "    </tr>\n",
              "    <tr>\n",
              "      <th>Personal Care</th>\n",
              "      <td>3980904.84</td>\n",
              "    </tr>\n",
              "    <tr>\n",
              "      <th>Vegetables</th>\n",
              "      <td>3089057.06</td>\n",
              "    </tr>\n",
              "    <tr>\n",
              "      <th>Beverages</th>\n",
              "      <td>2690794.60</td>\n",
              "    </tr>\n",
              "    <tr>\n",
              "      <th>Snacks</th>\n",
              "      <td>2080733.46</td>\n",
              "    </tr>\n",
              "    <tr>\n",
              "      <th>Fruits</th>\n",
              "      <td>466481.34</td>\n",
              "    </tr>\n",
              "  </tbody>\n",
              "</table>\n",
              "</div>"
            ],
            "text/plain": [
              "                 Total Revenue\n",
              "Item Type                     \n",
              "Cosmetics          36601509.60\n",
              "Office Supplies    30585380.07\n",
              "Household          29889712.29\n",
              "Baby Food          10350327.60\n",
              "Clothes             7787292.80\n",
              "Cereal              5322898.90\n",
              "Meat                4503675.75\n",
              "Personal Care       3980904.84\n",
              "Vegetables          3089057.06\n",
              "Beverages           2690794.60\n",
              "Snacks              2080733.46\n",
              "Fruits               466481.34"
            ]
          },
          "metadata": {},
          "execution_count": 33
        }
      ]
    },
    {
      "cell_type": "code",
      "metadata": {
        "colab": {
          "base_uri": "https://localhost:8080/",
          "height": 421
        },
        "id": "4LVLN766-3Jb",
        "outputId": "4488ff1a-63a6-43ae-c368-3e4c25746683"
      },
      "source": [
        "plt.figure(figsize=(15,6))\n",
        "sns.barplot(x='Item Type', y='Total Revenue',data=df)\n",
        "plt.title(\"BAR PLOT SHOWING PRODUCT RANKING BY TOTAL REVENUE\") #plot item type vs total revenue"
      ],
      "execution_count": 34,
      "outputs": [
        {
          "output_type": "execute_result",
          "data": {
            "text/plain": [
              "Text(0.5, 1.0, 'BAR PLOT SHOWING PRODUCT RANKING BY TOTAL REVENUE')"
            ]
          },
          "metadata": {},
          "execution_count": 34
        },
        {
          "output_type": "display_data",
          "data": {
            "image/png": "[encoded data removed]",
            "text/plain": [
              "<Figure size 1080x432 with 1 Axes>"
            ]
          },
          "metadata": {
            "needs_background": "light"
          }
        }
      ]
    },
    {
      "cell_type": "code",
      "metadata": {
        "id": "Y90sKA4R--ri"
      },
      "source": [
        "product_sell = pd.DataFrame(df.groupby('Item Type').sum()['Units Sold'])"
      ],
      "execution_count": 35,
      "outputs": []
    },
    {
      "cell_type": "code",
      "metadata": {
        "colab": {
          "base_uri": "https://localhost:8080/",
          "height": 450
        },
        "id": "LfcJdKst_C3J",
        "outputId": "598857ff-2d65-4ed8-e1cf-0bf4355a2502"
      },
      "source": [
        "product_sell.sort_values('Units Sold' ,ascending = False) #item type vs units sold"
      ],
      "execution_count": 36,
      "outputs": [
        {
          "output_type": "execute_result",
          "data": {
            "text/html": [
              "<div>\n",
              "<style scoped>\n",
              "    .dataframe tbody tr th:only-of-type {\n",
              "        vertical-align: middle;\n",
              "    }\n",
              "\n",
              "    .dataframe tbody tr th {\n",
              "        vertical-align: top;\n",
              "    }\n",
              "\n",
              "    .dataframe thead th {\n",
              "        text-align: right;\n",
              "    }\n",
              "</style>\n",
              "<table border=\"1\" class=\"dataframe\">\n",
              "  <thead>\n",
              "    <tr style=\"text-align: right;\">\n",
              "      <th></th>\n",
              "      <th>Units Sold</th>\n",
              "    </tr>\n",
              "    <tr>\n",
              "      <th>Item Type</th>\n",
              "      <th></th>\n",
              "    </tr>\n",
              "  </thead>\n",
              "  <tbody>\n",
              "    <tr>\n",
              "      <th>Cosmetics</th>\n",
              "      <td>83718</td>\n",
              "    </tr>\n",
              "    <tr>\n",
              "      <th>Clothes</th>\n",
              "      <td>71260</td>\n",
              "    </tr>\n",
              "    <tr>\n",
              "      <th>Beverages</th>\n",
              "      <td>56708</td>\n",
              "    </tr>\n",
              "    <tr>\n",
              "      <th>Fruits</th>\n",
              "      <td>49998</td>\n",
              "    </tr>\n",
              "    <tr>\n",
              "      <th>Personal Care</th>\n",
              "      <td>48708</td>\n",
              "    </tr>\n",
              "    <tr>\n",
              "      <th>Office Supplies</th>\n",
              "      <td>46967</td>\n",
              "    </tr>\n",
              "    <tr>\n",
              "      <th>Household</th>\n",
              "      <td>44727</td>\n",
              "    </tr>\n",
              "    <tr>\n",
              "      <th>Baby Food</th>\n",
              "      <td>40545</td>\n",
              "    </tr>\n",
              "    <tr>\n",
              "      <th>Cereal</th>\n",
              "      <td>25877</td>\n",
              "    </tr>\n",
              "    <tr>\n",
              "      <th>Vegetables</th>\n",
              "      <td>20051</td>\n",
              "    </tr>\n",
              "    <tr>\n",
              "      <th>Snacks</th>\n",
              "      <td>13637</td>\n",
              "    </tr>\n",
              "    <tr>\n",
              "      <th>Meat</th>\n",
              "      <td>10675</td>\n",
              "    </tr>\n",
              "  </tbody>\n",
              "</table>\n",
              "</div>"
            ],
            "text/plain": [
              "                 Units Sold\n",
              "Item Type                  \n",
              "Cosmetics             83718\n",
              "Clothes               71260\n",
              "Beverages             56708\n",
              "Fruits                49998\n",
              "Personal Care         48708\n",
              "Office Supplies       46967\n",
              "Household             44727\n",
              "Baby Food             40545\n",
              "Cereal                25877\n",
              "Vegetables            20051\n",
              "Snacks                13637\n",
              "Meat                  10675"
            ]
          },
          "metadata": {},
          "execution_count": 36
        }
      ]
    },
    {
      "cell_type": "code",
      "metadata": {
        "colab": {
          "base_uri": "https://localhost:8080/",
          "height": 383
        },
        "id": "_tGfyM_d_GJL",
        "outputId": "3ee8b289-f8fe-4ffb-c91f-aef9f0cf4e12"
      },
      "source": [
        "plt.figure(figsize=(20,6))\n",
        "sns.barplot(x='Item Type', y='Units Sold',data=df,palette='BrBG')\n",
        "plt.title('Most selling items')\n",
        "plt.show() #using this plot we can find relation betwen item type and units sold"
      ],
      "execution_count": 37,
      "outputs": [
        {
          "output_type": "display_data",
          "data": {
            "image/png": "[encoded data removed]",
            "text/plain": [
              "<Figure size 1440x432 with 1 Axes>"
            ]
          },
          "metadata": {
            "needs_background": "light"
          }
        }
      ]
    },
    {
      "cell_type": "code",
      "metadata": {
        "colab": {
          "base_uri": "https://localhost:8080/",
          "height": 450
        },
        "id": "L7m2wBwQ_T_R",
        "outputId": "0aa137bb-fe81-45c3-ee75-42d29f02efd4"
      },
      "source": [
        "Item_profit = pd.DataFrame(df.groupby(['Item Type']).sum()['Total Profit'])\n",
        "Item_profit.sort_values(['Item Type'],ascending = False)"
      ],
      "execution_count": 38,
      "outputs": [
        {
          "output_type": "execute_result",
          "data": {
            "text/html": [
              "<div>\n",
              "<style scoped>\n",
              "    .dataframe tbody tr th:only-of-type {\n",
              "        vertical-align: middle;\n",
              "    }\n",
              "\n",
              "    .dataframe tbody tr th {\n",
              "        vertical-align: top;\n",
              "    }\n",
              "\n",
              "    .dataframe thead th {\n",
              "        text-align: right;\n",
              "    }\n",
              "</style>\n",
              "<table border=\"1\" class=\"dataframe\">\n",
              "  <thead>\n",
              "    <tr style=\"text-align: right;\">\n",
              "      <th></th>\n",
              "      <th>Total Profit</th>\n",
              "    </tr>\n",
              "    <tr>\n",
              "      <th>Item Type</th>\n",
              "      <th></th>\n",
              "    </tr>\n",
              "  </thead>\n",
              "  <tbody>\n",
              "    <tr>\n",
              "      <th>Vegetables</th>\n",
              "      <td>1265819.63</td>\n",
              "    </tr>\n",
              "    <tr>\n",
              "      <th>Snacks</th>\n",
              "      <td>751944.18</td>\n",
              "    </tr>\n",
              "    <tr>\n",
              "      <th>Personal Care</th>\n",
              "      <td>1220622.48</td>\n",
              "    </tr>\n",
              "    <tr>\n",
              "      <th>Office Supplies</th>\n",
              "      <td>5929583.75</td>\n",
              "    </tr>\n",
              "    <tr>\n",
              "      <th>Meat</th>\n",
              "      <td>610610.00</td>\n",
              "    </tr>\n",
              "    <tr>\n",
              "      <th>Household</th>\n",
              "      <td>7412605.71</td>\n",
              "    </tr>\n",
              "    <tr>\n",
              "      <th>Fruits</th>\n",
              "      <td>120495.18</td>\n",
              "    </tr>\n",
              "    <tr>\n",
              "      <th>Cosmetics</th>\n",
              "      <td>14556048.66</td>\n",
              "    </tr>\n",
              "    <tr>\n",
              "      <th>Clothes</th>\n",
              "      <td>5233334.40</td>\n",
              "    </tr>\n",
              "    <tr>\n",
              "      <th>Cereal</th>\n",
              "      <td>2292443.43</td>\n",
              "    </tr>\n",
              "    <tr>\n",
              "      <th>Beverages</th>\n",
              "      <td>888047.28</td>\n",
              "    </tr>\n",
              "    <tr>\n",
              "      <th>Baby Food</th>\n",
              "      <td>3886643.70</td>\n",
              "    </tr>\n",
              "  </tbody>\n",
              "</table>\n",
              "</div>"
            ],
            "text/plain": [
              "                 Total Profit\n",
              "Item Type                    \n",
              "Vegetables         1265819.63\n",
              "Snacks              751944.18\n",
              "Personal Care      1220622.48\n",
              "Office Supplies    5929583.75\n",
              "Meat                610610.00\n",
              "Household          7412605.71\n",
              "Fruits              120495.18\n",
              "Cosmetics         14556048.66\n",
              "Clothes            5233334.40\n",
              "Cereal             2292443.43\n",
              "Beverages           888047.28\n",
              "Baby Food          3886643.70"
            ]
          },
          "metadata": {},
          "execution_count": 38
        }
      ]
    },
    {
      "cell_type": "code",
      "metadata": {
        "colab": {
          "base_uri": "https://localhost:8080/",
          "height": 421
        },
        "id": "ufIxlL14_Vrs",
        "outputId": "10f323d8-f310-4def-c02b-c06840143106"
      },
      "source": [
        "plt.figure(figsize=(15,6))\n",
        "sns.barplot(x='Item Type', y='Total Profit',data=df,palette='hot', saturation=.5,ci=None)\n",
        "plt.title(\"Items with profit\") #same way ploting total profit vs item type"
      ],
      "execution_count": 39,
      "outputs": [
        {
          "output_type": "execute_result",
          "data": {
            "text/plain": [
              "Text(0.5, 1.0, 'Items with profit')"
            ]
          },
          "metadata": {},
          "execution_count": 39
        },
        {
          "output_type": "display_data",
          "data": {
            "image/png": "[encoded data removed]",
            "text/plain": [
              "<Figure size 1080x432 with 1 Axes>"
            ]
          },
          "metadata": {
            "needs_background": "light"
          }
        }
      ]
    },
    {
      "cell_type": "code",
      "metadata": {
        "colab": {
          "base_uri": "https://localhost:8080/",
          "height": 350
        },
        "id": "wlJatmhf_Z2I",
        "outputId": "f3f87141-85b7-4c97-ad4c-d3eb9e360883"
      },
      "source": [
        "sns.countplot(df['Order Priority'],palette='Set1') #count of order priority"
      ],
      "execution_count": 40,
      "outputs": [
        {
          "output_type": "stream",
          "name": "stderr",
          "text": [
            "/usr/local/lib/python3.7/dist-packages/seaborn/_decorators.py:43: FutureWarning: Pass the following variable as a keyword arg: x. From version 0.12, the only valid positional argument will be `data`, and passing other arguments without an explicit keyword will result in an error or misinterpretation.\n",
            "  FutureWarning\n"
          ]
        },
        {
          "output_type": "execute_result",
          "data": {
            "text/plain": [
              "<matplotlib.axes._subplots.AxesSubplot at 0x7f35197ddf10>"
            ]
          },
          "metadata": {},
          "execution_count": 40
        },
        {
          "output_type": "display_data",
          "data": {
            "image/png": "[encoded data removed]",
            "text/plain": [
              "<Figure size 432x288 with 1 Axes>"
            ]
          },
          "metadata": {
            "needs_background": "light"
          }
        }
      ]
    },
    {
      "cell_type": "code",
      "metadata": {
        "colab": {
          "base_uri": "https://localhost:8080/",
          "height": 312
        },
        "id": "vjeAh7dH_hKJ",
        "outputId": "af6fb8af-42ba-4710-dbc2-0e6a6215de0e"
      },
      "source": [
        "sns.barplot(x='Order Priority', y='Total Revenue',data=df,palette='pastel',ci=None)\n",
        "plt.title('Revenue generated by priority') #plot order priority vs total revenue"
      ],
      "execution_count": 41,
      "outputs": [
        {
          "output_type": "execute_result",
          "data": {
            "text/plain": [
              "Text(0.5, 1.0, 'Revenue generated by priority')"
            ]
          },
          "metadata": {},
          "execution_count": 41
        },
        {
          "output_type": "display_data",
          "data": {
            "image/png": "[encoded data removed]",
            "text/plain": [
              "<Figure size 432x288 with 1 Axes>"
            ]
          },
          "metadata": {
            "needs_background": "light"
          }
        }
      ]
    },
    {
      "cell_type": "code",
      "metadata": {
        "colab": {
          "base_uri": "https://localhost:8080/",
          "height": 421
        },
        "id": "hqUHyzQ6_lOJ",
        "outputId": "5a8689ee-808a-40bd-aa95-0b6316d0ae6d"
      },
      "source": [
        "plt.figure(figsize=(15,6))\n",
        "sns.barplot(x='Item Type', y='Total Profit',data=df,palette='Reds', saturation=.5,ci=None,hue = 'Order Priority')\n",
        "plt.title('items with profit') #Item Type Vs Total Profit on the basis of Order Priority"
      ],
      "execution_count": 42,
      "outputs": [
        {
          "output_type": "execute_result",
          "data": {
            "text/plain": [
              "Text(0.5, 1.0, 'items with profit')"
            ]
          },
          "metadata": {},
          "execution_count": 42
        },
        {
          "output_type": "display_data",
          "data": {
            "image/png": "[encoded data removed]",
            "text/plain": [
              "<Figure size 1080x432 with 1 Axes>"
            ]
          },
          "metadata": {
            "needs_background": "light"
          }
        }
      ]
    },
    {
      "cell_type": "code",
      "metadata": {
        "colab": {
          "base_uri": "https://localhost:8080/",
          "height": 401
        },
        "id": "eW8PDHyJ_pA6",
        "outputId": "0862dae0-9106-4a5f-cf11-e394af8b30d4"
      },
      "source": [
        "plt.figure(figsize=(20,6))\n",
        "sns.barplot(x='Item Type', y='Total Profit',data=df,palette='BuGn', saturation=.5,ci=None,hue = 'Order Priority')\n",
        "plt.title('items with profit') #Item Type Vs Total Revenue on the basis of Order Priority"
      ],
      "execution_count": 43,
      "outputs": [
        {
          "output_type": "execute_result",
          "data": {
            "text/plain": [
              "Text(0.5, 1.0, 'items with profit')"
            ]
          },
          "metadata": {},
          "execution_count": 43
        },
        {
          "output_type": "display_data",
          "data": {
            "image/png": "[encoded data removed]",
            "text/plain": [
              "<Figure size 1440x432 with 1 Axes>"
            ]
          },
          "metadata": {
            "needs_background": "light"
          }
        }
      ]
    },
    {
      "cell_type": "code",
      "metadata": {
        "colab": {
          "base_uri": "https://localhost:8080/",
          "height": 258
        },
        "id": "nrXEhtJV_vsC",
        "outputId": "1fc8255d-4761-4d48-ee1a-7c2a10221beb"
      },
      "source": [
        "plt.figure(figsize=(5,2))\n",
        "sns.countplot(df['Sales Channel'],palette='cool_r')\n",
        "plt.title('Count of offline and online sales') #plot online vs offline sales"
      ],
      "execution_count": 44,
      "outputs": [
        {
          "output_type": "stream",
          "name": "stderr",
          "text": [
            "/usr/local/lib/python3.7/dist-packages/seaborn/_decorators.py:43: FutureWarning: Pass the following variable as a keyword arg: x. From version 0.12, the only valid positional argument will be `data`, and passing other arguments without an explicit keyword will result in an error or misinterpretation.\n",
            "  FutureWarning\n"
          ]
        },
        {
          "output_type": "execute_result",
          "data": {
            "text/plain": [
              "Text(0.5, 1.0, 'Count of offline and online sales')"
            ]
          },
          "metadata": {},
          "execution_count": 44
        },
        {
          "output_type": "display_data",
          "data": {
            "image/png": "[encoded data removed]",
            "text/plain": [
              "<Figure size 360x144 with 1 Axes>"
            ]
          },
          "metadata": {
            "needs_background": "light"
          }
        }
      ]
    },
    {
      "cell_type": "code",
      "metadata": {
        "colab": {
          "base_uri": "https://localhost:8080/",
          "height": 307
        },
        "id": "xy4R0J3t_xLH",
        "outputId": "e5462839-ff37-4d4b-f47a-0d3066e7974e"
      },
      "source": [
        "sns.barplot(x='Sales Channel' ,y='Total Revenue',data = df,ci=None,palette=\"hsv\") #plot sales chanel vs total revenue"
      ],
      "execution_count": 45,
      "outputs": [
        {
          "output_type": "execute_result",
          "data": {
            "text/plain": [
              "<matplotlib.axes._subplots.AxesSubplot at 0x7f351945ec50>"
            ]
          },
          "metadata": {},
          "execution_count": 45
        },
        {
          "output_type": "display_data",
          "data": {
            "image/png": "[encoded data removed]",
            "text/plain": [
              "<Figure size 432x288 with 1 Axes>"
            ]
          },
          "metadata": {
            "needs_background": "light"
          }
        }
      ]
    },
    {
      "cell_type": "code",
      "metadata": {
        "id": "lxtA2-Xk_1e6"
      },
      "source": [
        "#conclusion : at last we can say that The number of online and offline orders are equal and \n",
        "#The Total Revenue of Offline sales is more than that of Online sales."
      ],
      "execution_count": 46,
      "outputs": []
    }
  ]
}